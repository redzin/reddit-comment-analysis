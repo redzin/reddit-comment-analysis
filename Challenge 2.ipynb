{
 "cells": [
  {
   "cell_type": "markdown",
   "metadata": {},
   "source": [
    "### Exercise 3"
   ]
  },
  {
   "cell_type": "code",
   "execution_count": null,
   "metadata": {
    "collapsed": false
   },
   "outputs": [],
   "source": [
    "\n"
   ]
  },
  {
   "cell_type": "code",
   "execution_count": 8,
   "metadata": {
    "collapsed": false
   },
   "outputs": [
    {
     "name": "stdout",
     "output_type": "stream",
     "text": [
      "Fethcing subreddit IDs...\n",
      "Subreddit IDs fetched. Time:  148.60076189041138  seconds\n",
      "Computing average thread depth for each subreddit...\n",
      "\n",
      "The 10 subreddit ids with largest average comment thread deapth are:\n",
      "1 \t rps \t 873.6698271054099\n",
      "2 \t MyLittleSupportGroup \t 490.5343208092485\n",
      "3 \t TagProCirclejerk \t 447.38029386343993\n",
      "4 \t counting \t 381.8134144242355\n",
      "5 \t geraffesaresodumb \t 372.14663726571115\n",
      "6 \t EroticRolePlay \t 271.39030837004407\n",
      "7 \t LetsChat \t 244.1347503900156\n",
      "8 \t SburbRP \t 215.50563746747616\n",
      "9 \t ExploreFiction \t 201.20330102174483\n",
      "10 \t GreypoCounting \t 181.8747663551402\n",
      "\n",
      "Total run time:  12812.1227684021 seconds\n"
     ]
    }
   ],
   "source": [
    "\n",
    "import sqlite3\n",
    "import time\n",
    "\n",
    "\n",
    "conn = sqlite3.connect('reddit.db')\n",
    "c = conn.cursor()\n",
    "\n",
    "q =\"\"\"\n",
    "SELECT DISTINCT subreddit_id FROM comments\n",
    "\"\"\"\n",
    "\n",
    "t1 = time.time()\n",
    "\n",
    "print(\"Fethcing subreddit IDs...\")\n",
    "\n",
    "result = c.execute(q)\n",
    "\n",
    "i = 1\n",
    "s_ids = list()\n",
    "for row in result:\n",
    "    s_ids.append(row[0])\n",
    "\n",
    "t2 = time.time()\n",
    "print(\"Subreddit IDs fetched. Time: \", t2-t1, ' seconds')\n",
    "print(\"Computing average thread depth for each subreddit...\")\n",
    "\n",
    "deepest_10 = list(['', 0] for i in range(10))\n",
    "for i in s_ids:\n",
    "    q2 = \"\"\"SELECT AVG(depth) FROM (\n",
    "                WITH RECURSIVE node_ancestors(node_id, parent_id) AS (\n",
    "                        SELECT id, id FROM comments WHERE subreddit_id=\"%s\"\n",
    "                    UNION ALL\n",
    "                        SELECT na.node_id, comments.parent_id\n",
    "                            FROM node_ancestors AS na, comments\n",
    "                            WHERE comments.id = na.parent_id AND comments.parent_id IS NOT NULL\n",
    "                )\n",
    "                SELECT node_id, COUNT(parent_id) AS depth FROM node_ancestors GROUP BY node_id ORDER BY depth DESC   \n",
    "            );\n",
    "            \"\"\" % (i)\n",
    "    for j in c.execute(q2):\n",
    "        #for k in range(len(deepest_10)):\n",
    "        #    if j[0] > deepest_10[k][1]:\n",
    "        #        deepest_10.insert(k, [i,j[0]])\n",
    "        #        break\n",
    "        #deepest_10 = deepest_10[0:10]\n",
    "        if sum([j[0] > k[1] for k in deepest_10]) > 0:\n",
    "            deepest_10.append([i,j[0]])\n",
    "            deepest_10 = sorted(deepest_10, key=lambda x: x[1], reverse = True)[0:10]\n",
    "    \n",
    "print(\"\\r\\nThe 10 subreddit ids with largest average comment thread deapth are:\")\n",
    "n = 1\n",
    "for i in deepest_10:\n",
    "    q3 = 'SELECT name FROM subreddits WHERE id=\"%s\"' % (i[0])\n",
    "    for j in c.execute(q3):\n",
    "        print(n, '\\t', j[0], '\\t', i[1])\n",
    "    n += 1\n",
    "\n",
    "\n",
    "t2 = time.time()\n",
    "print(\"\\r\\nTotal run time: \", t2-t1, 'seconds')"
   ]
  },
  {
   "cell_type": "code",
   "execution_count": null,
   "metadata": {
    "collapsed": true
   },
   "outputs": [],
   "source": []
  }
 ],
 "metadata": {
  "anaconda-cloud": {},
  "kernelspec": {
   "display_name": "Python [Root]",
   "language": "python",
   "name": "Python [Root]"
  },
  "language_info": {
   "codemirror_mode": {
    "name": "ipython",
    "version": 3
   },
   "file_extension": ".py",
   "mimetype": "text/x-python",
   "name": "python",
   "nbconvert_exporter": "python",
   "pygments_lexer": "ipython3",
   "version": "3.5.2"
  }
 },
 "nbformat": 4,
 "nbformat_minor": 0
}
